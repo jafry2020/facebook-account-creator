{
 "cells": [
  {
   "cell_type": "code",
   "execution_count": 35,
   "id": "13ad14f5-9225-42a1-8c9f-9c74871b3963",
   "metadata": {},
   "outputs": [],
   "source": [
    "#import libraries\n",
    "import time\n",
    "import os \n",
    "from IPython.display import clear_output\n",
    "import pandas as pd\n",
    "import re\n",
    "import string\n",
    "from selenium import webdriver\n",
    "from selenium.webdriver.edge.options import Options\n",
    "from selenium.webdriver.common.keys import Keys\n",
    "from selenium.webdriver.common.by import By\n",
    "from selenium.common.exceptions import NoSuchElementException\n",
    "from selenium import webdriver\n",
    "from selenium.webdriver.support.ui import Select\n",
    "from selenium.webdriver.common.keys import Keys\n",
    "from selenium.webdriver.common.by import By\n",
    "from selenium.webdriver.support.ui import WebDriverWait\n",
    "from selenium.webdriver.support import expected_conditions as EC\n",
    "import random\n",
    "import time"
   ]
  },
  {
   "cell_type": "code",
   "execution_count": 36,
   "id": "fb2310d6-5852-4a11-b62a-f9f13d8f669c",
   "metadata": {},
   "outputs": [],
   "source": [
    "def signup():\n",
    "    \n",
    "    driver.find_element(By.XPATH, '/html/body/div[1]/div[1]/div[1]/div/div/div/div[2]/div/div[1]/form/div[5]/a').click()\n",
    "    time.sleep(6)\n",
    "    driver.find_element(By.XPATH, '/html/body/div[3]/div[2]/div/div/div[2]/div/div/div[1]/form/div[1]/div[1]/div[1]/div[1]/div/input').send_keys(random.choice(firstname))\n",
    "    time.sleep(1)\n",
    "    driver.find_element(By.XPATH, '/html/body/div[3]/div[2]/div/div/div[2]/div/div/div[1]/form/div[1]/div[1]/div[1]/div[2]/div/div[1]/input').send_keys(random.choice(lastname))\n",
    "    time.sleep(1)\n",
    "\n",
    "    ##mobile number to be added using api\n",
    "    driver.find_element(By.XPATH, '/html/body/div[3]/div[2]/div/div/div[2]/div/div/div[1]/form/div[1]/div[2]/div/div[1]/input').send_keys(\"gahowav161@jernang.com\") #replace with your mail/phone no\n",
    "    time.sleep(2)\n",
    "    driver.find_element(By.XPATH, '/html/body/div[3]/div[2]/div/div/div[2]/div/div/div[1]/form/div[1]/div[3]/div/div/div[1]/input').send_keys(\"gahowav161@jernang.com\")#again paste the used mail/phone no\n",
    "    time.sleep(1)\n",
    "\n",
    "    #password\n",
    "    driver.find_element(By.XPATH, '/html/body/div[3]/div[2]/div/div/div[2]/div/div/div[1]/form/div[1]/div[4]/div/div[1]/input').send_keys(random.choice(password))\n",
    "    time.sleep(2)\n",
    "\n",
    "    #dropdown and choices\n",
    "    dropdown = Select(driver.find_element(By.ID , \"day\"))\n",
    "    dropdown.select_by_value(\"8\")\n",
    "    time.sleep(1)\n",
    "    dropdown = Select(driver.find_element(By.ID ,\"month\"))\n",
    "    dropdown.select_by_value(\"5\")\n",
    "    time.sleep(1)\n",
    "    dropdown = Select(driver.find_element(By.ID ,\"year\"))\n",
    "    dropdown.select_by_value(\"1999\")\n",
    "    time.sleep(2)\n",
    "\n",
    "    #gender choosing\n",
    "    random_number = random.randint(0, 1)\n",
    "    if random_number == 0:\n",
    "        driver.find_element(By.XPATH, '/html/body/div[3]/div[2]/div/div/div[2]/div/div/div[1]/form/div[1]/div[7]/span/span[1]/input').click()\n",
    "    else:\n",
    "        driver.find_element(By.XPATH, '/html/body/div[3]/div[2]/div/div/div[2]/div/div/div[1]/form/div[1]/div[7]/span/span[2]/input').click()\n",
    "    time.sleep(2)\n",
    "\n",
    "    #click on login\n",
    "    driver.find_element(By.XPATH, '/html/body/div[3]/div[2]/div/div/div[2]/div/div/div[1]/form/div[1]/div[11]').click()\n",
    "    time.sleep(30)"
   ]
  },
  {
   "cell_type": "code",
   "execution_count": 37,
   "id": "c742d5b8-9684-4d34-8459-3fcf0df9322b",
   "metadata": {},
   "outputs": [],
   "source": [
    "\n",
    "firstname = [\"Alan\", \"Murat\", \"Azad\", \"Necati\"]\n",
    "lastname = [\"Alan\", \"Murat\", \"Azad\", \"Necati\"]\n",
    "password = [\"pass123$%\",\"elen23$51\",\"word324%\",\"length12#$%\",\"face23$%&1\",\"hru231%$#\"] #replace with your required password here...\n",
    "\n",
    "\n",
    "option = Options()\n",
    "option.headless = True\n",
    "driver = webdriver.Edge(options=option)\n",
    "driver.get(\"https://www.facebook.com/\")\n",
    "time.sleep(4)\n",
    "\n",
    "signup()\n",
    "\t\n"
   ]
  },
  {
   "cell_type": "code",
   "execution_count": 5,
   "id": "e109b655-f769-40a8-82dc-90b2d108fb14",
   "metadata": {},
   "outputs": [],
   "source": []
  },
  {
   "cell_type": "code",
   "execution_count": null,
   "id": "e87e77ea-e6a7-414d-9650-0f8fb70fb481",
   "metadata": {},
   "outputs": [],
   "source": []
  }
 ],
 "metadata": {
  "kernelspec": {
   "display_name": "Python 3 (ipykernel)",
   "language": "python",
   "name": "python3"
  },
  "language_info": {
   "codemirror_mode": {
    "name": "ipython",
    "version": 3
   },
   "file_extension": ".py",
   "mimetype": "text/x-python",
   "name": "python",
   "nbconvert_exporter": "python",
   "pygments_lexer": "ipython3",
   "version": "3.12.2"
  }
 },
 "nbformat": 4,
 "nbformat_minor": 5
}
