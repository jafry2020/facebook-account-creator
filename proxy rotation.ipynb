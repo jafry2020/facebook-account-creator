{
 "cells": [
  {
   "cell_type": "code",
   "execution_count": 1,
   "id": "e2dd0077-df78-4301-b6f1-d0eaab1e7262",
   "metadata": {},
   "outputs": [],
   "source": [
    "import requests\n",
    "import random"
   ]
  },
  {
   "cell_type": "markdown",
   "id": "6f094402-4467-4aa9-a8c4-c0443003799a",
   "metadata": {},
   "source": [
    "Loading free proxies from website"
   ]
  },
  {
   "cell_type": "code",
   "execution_count": 10,
   "id": "84327388-d1c9-40b2-9d87-1c8fa7f14680",
   "metadata": {},
   "outputs": [
    {
     "data": {
      "text/plain": [
       "['132.148.244.30',\n",
       " '81.21.82.116',\n",
       " '138.201.248.43',\n",
       " '178.44.222.93',\n",
       " '165.225.94.122']"
      ]
     },
     "execution_count": 10,
     "metadata": {},
     "output_type": "execute_result"
    }
   ],
   "source": [
    "number_of_ip =  200\n",
    "ipes = requests.get('https://proxylist.geonode.com/api/proxy-list?protocols=socks5&limit='+str(number_of_ip)+ '&page=1&sort_by=lastChecked&sort_type=desc').json()\n",
    "proxies = [id['ip'] for id in ipes['data']]\n",
    "proxies[:5]"
   ]
  },
  {
   "cell_type": "code",
   "execution_count": 11,
   "id": "5e27f086-6808-48f9-85fa-42ca722dba6b",
   "metadata": {},
   "outputs": [
    {
     "data": {
      "text/plain": [
       "{'SOCKS5': '173.212.250.16'}"
      ]
     },
     "execution_count": 11,
     "metadata": {},
     "output_type": "execute_result"
    }
   ],
   "source": [
    "ip_adress = random.choice(proxies)\n",
    "new_dict = {'SOCKS5': ip_adress}\n",
    "new_dict"
   ]
  },
  {
   "cell_type": "code",
   "execution_count": 12,
   "id": "8ca334c0-29ab-4093-ada5-eec2be698c2d",
   "metadata": {},
   "outputs": [],
   "source": [
    "url = 'https://api.spacexdata.com/v4/history/query'\n",
    "response = requests.post(url,proxies=new_dict)"
   ]
  },
  {
   "cell_type": "code",
   "execution_count": 13,
   "id": "8f0b1f78-a338-4b85-b6b5-dbcf505290c4",
   "metadata": {},
   "outputs": [
    {
     "data": {
      "text/plain": [
       "['http://www.spacex.com/news/2013/02/11/flight-4-launch-update-0',\n",
       " 'http://www.spacex.com/news/2013/02/12/falcon-1-flight-5',\n",
       " 'http://www.bbc.com/news/10209704',\n",
       " 'http://www.cnn.com/2010/US/12/08/space.flight/index.html',\n",
       " 'http://www.newspacejournal.com/2013/03/27/after-dragon-spacexs-focus-returns-to-falcon/',\n",
       " 'https://spaceflightnow.com/2015/12/22/round-trip-rocket-flight-gives-spacex-a-trifecta-of-successes/',\n",
       " 'https://spaceflightnow.com/2016/04/08/spacex-lands-rocket-on-floating-platform-after-station-resupply-launch/',\n",
       " 'https://spaceflightnow.com/2017/03/31/spacex-flies-rocket-for-second-time-in-historic-test-of-cost-cutting-technology/',\n",
       " 'https://spaceflightnow.com/2017/03/31/spacex-flies-rocket-for-second-time-in-historic-test-of-cost-cutting-technology/',\n",
       " 'https://spaceflightnow.com/2017/06/03/reused-dragon-cargo-capsule-launched-on-journey-to-space-station/']"
      ]
     },
     "execution_count": 13,
     "metadata": {},
     "output_type": "execute_result"
    }
   ],
   "source": [
    "data = response.json()\n",
    "data\n",
    "articles = [i['links']['article'] for i in data['docs']]\n",
    "articles"
   ]
  },
  {
   "cell_type": "code",
   "execution_count": 24,
   "id": "7649c5f0-3ef4-45c2-a70a-eaa4558015b9",
   "metadata": {},
   "outputs": [
    {
     "name": "stdout",
     "output_type": "stream",
     "text": [
      "median  3\n"
     ]
    }
   ],
   "source": [
    "num1=[1, 3]\n",
    "num2 = [2, 0, 5]\n",
    "\n",
    "num3 = num1 + num2\n",
    "num3.sort()\n",
    "\n",
    "print(\"median \",num3[len(num3)-2])"
   ]
  },
  {
   "cell_type": "code",
   "execution_count": null,
   "id": "39369312-9da6-4992-a64f-6b552d8ad9f1",
   "metadata": {},
   "outputs": [],
   "source": []
  }
 ],
 "metadata": {
  "kernelspec": {
   "display_name": "Python 3 (ipykernel)",
   "language": "python",
   "name": "python3"
  },
  "language_info": {
   "codemirror_mode": {
    "name": "ipython",
    "version": 3
   },
   "file_extension": ".py",
   "mimetype": "text/x-python",
   "name": "python",
   "nbconvert_exporter": "python",
   "pygments_lexer": "ipython3",
   "version": "3.12.2"
  }
 },
 "nbformat": 4,
 "nbformat_minor": 5
}
