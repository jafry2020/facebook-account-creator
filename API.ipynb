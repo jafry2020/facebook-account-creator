{
 "cells": [
  {
   "cell_type": "code",
   "execution_count": 1,
   "id": "82ae8dc3-0b47-418d-882f-69469fdf705f",
   "metadata": {},
   "outputs": [],
   "source": [
    "# !pip install requests \n",
    "import requests"
   ]
  },
  {
   "cell_type": "code",
   "execution_count": 7,
   "id": "ed0711dd-1fd3-430e-a7db-69e07f865359",
   "metadata": {},
   "outputs": [],
   "source": [
    "#api doesnt exist\n",
    "response = requests.get(\"https://api.open-notify.org/this-api-doesnt-exist\")\n",
    "response.status_code"
   ]
  },
  {
   "cell_type": "code",
   "execution_count": 9,
   "id": "9f67366b-c467-4428-bfd6-87c83bee76a6",
   "metadata": {},
   "outputs": [
    {
     "data": {
      "text/plain": [
       "200"
      ]
     },
     "execution_count": 9,
     "metadata": {},
     "output_type": "execute_result"
    }
   ],
   "source": [
    "response = requests.get(\"http://api.open-notify.org/astros\")\n",
    "response.status_code"
   ]
  },
  {
   "cell_type": "code",
   "execution_count": 10,
   "id": "23ad6d52-da34-4021-9f52-9ae65dad019b",
   "metadata": {},
   "outputs": [
    {
     "data": {
      "text/plain": [
       "{'message': 'success',\n",
       " 'people': [{'name': 'Jasmin Moghbeli', 'craft': 'ISS'},\n",
       "  {'name': 'Andreas Mogensen', 'craft': 'ISS'},\n",
       "  {'name': 'Satoshi Furukawa', 'craft': 'ISS'},\n",
       "  {'name': 'Konstantin Borisov', 'craft': 'ISS'},\n",
       "  {'name': 'Oleg Kononenko', 'craft': 'ISS'},\n",
       "  {'name': 'Nikolai Chub', 'craft': 'ISS'},\n",
       "  {'name': \"Loral O'Hara\", 'craft': 'ISS'}],\n",
       " 'number': 7}"
      ]
     },
     "execution_count": 10,
     "metadata": {},
     "output_type": "execute_result"
    }
   ],
   "source": [
    "response.json()"
   ]
  },
  {
   "cell_type": "markdown",
   "id": "1f780433-eb8e-43f7-83d3-71ca90b3bb0e",
   "metadata": {},
   "source": [
    "Weather API"
   ]
  },
  {
   "cell_type": "code",
   "execution_count": 24,
   "id": "e120d82b-9b9f-4f19-8951-6d7155b813bb",
   "metadata": {},
   "outputs": [
    {
     "name": "stdin",
     "output_type": "stream",
     "text": [
      "islamabd lahore\n"
     ]
    },
    {
     "name": "stdout",
     "output_type": "stream",
     "text": [
      "https://api.openweathermap.org/data/2.5/weather?q=lahore&appid=4686d575dee112999a473e4c4ba91f18\n"
     ]
    },
    {
     "data": {
      "text/plain": [
       "{'coord': {'lon': 74.3436, 'lat': 31.5497},\n",
       " 'weather': [{'id': 711,\n",
       "   'main': 'Smoke',\n",
       "   'description': 'smoke',\n",
       "   'icon': '50n'}],\n",
       " 'base': 'stations',\n",
       " 'main': {'temp': 299.14,\n",
       "  'feels_like': 299.14,\n",
       "  'temp_min': 297.09,\n",
       "  'temp_max': 299.14,\n",
       "  'pressure': 1005,\n",
       "  'humidity': 53},\n",
       " 'visibility': 4000,\n",
       " 'wind': {'speed': 2.57, 'deg': 20},\n",
       " 'clouds': {'all': 43},\n",
       " 'dt': 1714084764,\n",
       " 'sys': {'type': 1,\n",
       "  'id': 7585,\n",
       "  'country': 'PK',\n",
       "  'sunrise': 1714090923,\n",
       "  'sunset': 1714138707},\n",
       " 'timezone': 18000,\n",
       " 'id': 1172451,\n",
       " 'name': 'Lahore',\n",
       " 'cod': 200}"
      ]
     },
     "execution_count": 24,
     "metadata": {},
     "output_type": "execute_result"
    }
   ],
   "source": [
    "api_key = '4686d575dee112999a473e4c4ba91f18'\n",
    "city = input(city)\n",
    "get_api_link = 'https://api.openweathermap.org/data/2.5/weather?q='+city+'&appid='+api_key\n",
    "print(get_api_link)\n",
    "response = requests.get(get_api_link)\n",
    "\n",
    "data = response.json()\n",
    "data"
   ]
  },
  {
   "cell_type": "markdown",
   "id": "b0e72f96-7056-408e-b1c2-ea8e72f5b5dd",
   "metadata": {},
   "source": [
    "Spacex API (https://github.com/r-spacex/SpaceX-API/blob/master/docs/history/v4/query.md)"
   ]
  },
  {
   "cell_type": "code",
   "execution_count": 33,
   "id": "f080a2c9-9f2c-4114-9185-a861afc092ef",
   "metadata": {},
   "outputs": [
    {
     "data": {
      "text/plain": [
       "<Response [200]>"
      ]
     },
     "execution_count": 33,
     "metadata": {},
     "output_type": "execute_result"
    }
   ],
   "source": [
    "api_key = 'https://api.spacexdata.com/v4/history/query'\n",
    "response = requests.post(api_key)\n",
    "response"
   ]
  },
  {
   "cell_type": "code",
   "execution_count": 34,
   "id": "c67a6363-cad9-405c-880f-04398a82c4bb",
   "metadata": {},
   "outputs": [
    {
     "data": {
      "text/plain": [
       "{'docs': [{'links': {'article': 'http://www.spacex.com/news/2013/02/11/flight-4-launch-update-0'},\n",
       "   'title': 'Falcon reaches Earth orbit',\n",
       "   'event_date_utc': '2008-09-28T23:15:00Z',\n",
       "   'event_date_unix': 1222643700,\n",
       "   'details': 'Falcon 1 becomes the first privately developed liquid-fuel rocket to reach Earth orbit.',\n",
       "   'id': '5f6fb2cfdcfdf403df37971e'},\n",
       "  {'links': {'article': 'http://www.spacex.com/news/2013/02/12/falcon-1-flight-5'},\n",
       "   'title': 'Falcon delivers payload to orbit',\n",
       "   'event_date_utc': '2009-07-13T03:35:00Z',\n",
       "   'event_date_unix': 1247456100,\n",
       "   'details': 'Fifth successful flight of Falcon makes history, becoming the first privately developed liquid-fuel rocket to deliver a commercial satellite to orbit.',\n",
       "   'id': '5f6fb2efdcfdf403df37971f'},\n",
       "  {'links': {'article': 'http://www.bbc.com/news/10209704'},\n",
       "   'title': 'First successfull Dragon launch',\n",
       "   'event_date_utc': '2010-06-04T18:45:00Z',\n",
       "   'event_date_unix': 1275677100,\n",
       "   'details': 'SpaceX becomes the first private company to successfully launch, orbit, and recover a spacecraft.',\n",
       "   'id': '5f6fb312dcfdf403df379720'},\n",
       "  {'links': {'article': 'http://www.cnn.com/2010/US/12/08/space.flight/index.html'},\n",
       "   'title': 'Dragon capsule births with ISS',\n",
       "   'event_date_utc': '2010-12-08T15:43:00Z',\n",
       "   'event_date_unix': 1291822980,\n",
       "   'details': \"Private developed Dragon spacecraft 'births' with the International Space Station successfully.\",\n",
       "   'id': '5f6fb326dcfdf403df379721'},\n",
       "  {'links': {'article': 'http://www.newspacejournal.com/2013/03/27/after-dragon-spacexs-focus-returns-to-falcon/'},\n",
       "   'title': 'First Falcon 9 GTO mission',\n",
       "   'event_date_utc': '2013-12-03T22:41:00Z',\n",
       "   'event_date_unix': 1386110460,\n",
       "   'details': 'Falcon 9 successfully depoyed payload to Geosynchronous Transfer Orbit',\n",
       "   'id': '5f6fb343dcfdf403df379722'},\n",
       "  {'links': {'article': 'https://spaceflightnow.com/2015/12/22/round-trip-rocket-flight-gives-spacex-a-trifecta-of-successes/'},\n",
       "   'title': 'Successfull Falcon 9 landing',\n",
       "   'event_date_utc': '2015-12-22T01:29:00Z',\n",
       "   'event_date_unix': 1450747740,\n",
       "   'details': 'On December 21, 2015, the Falcon 9 rocket delivered 11 communications satellites to orbit, and the first stage returned and landed at Landing Zone 1 – the first-ever orbital class rocket landing.',\n",
       "   'id': '5f6fb37ddcfdf403df379723'},\n",
       "  {'links': {'article': 'https://spaceflightnow.com/2016/04/08/spacex-lands-rocket-on-floating-platform-after-station-resupply-launch/'},\n",
       "   'title': 'Successfull Falcon 9 droneship landing',\n",
       "   'event_date_utc': '2016-04-08T20:43:00Z',\n",
       "   'event_date_unix': 1460148180,\n",
       "   'details': 'On April 8, 2016, the Falcon 9 rocket launched the Dragon spacecraft to the International Space Station, and the first stage returned and landed on the Of Course I Still Love You droneship.',\n",
       "   'id': '5f6fb391dcfdf403df379724'},\n",
       "  {'links': {'article': 'https://spaceflightnow.com/2017/03/31/spacex-flies-rocket-for-second-time-in-historic-test-of-cost-cutting-technology/'},\n",
       "   'title': 'First Falcon 9 reflight',\n",
       "   'event_date_utc': '2017-03-30T22:27:00Z',\n",
       "   'event_date_unix': 1490912820,\n",
       "   'details': \"On March 30, 2017, SpaceX achieved the world's first reflight of an orbital class rocket. Following delivery of the payload, the Falcon 9 first stage returned to Earth for the second time.\",\n",
       "   'id': '5f6fb3a7dcfdf403df379725'},\n",
       "  {'links': {'article': 'https://spaceflightnow.com/2017/03/31/spacex-flies-rocket-for-second-time-in-historic-test-of-cost-cutting-technology/'},\n",
       "   'title': 'Fairing recovered successfully',\n",
       "   'event_date_utc': '2017-03-30T22:27:00Z',\n",
       "   'event_date_unix': 1490912820,\n",
       "   'details': 'The fairing section used in this flight was successfuly recovered from the ocean, following a controlled flyback throug the atmosphere.',\n",
       "   'id': '5f6fb3b9dcfdf403df379726'},\n",
       "  {'links': {'article': 'https://spaceflightnow.com/2017/06/03/reused-dragon-cargo-capsule-launched-on-journey-to-space-station/'},\n",
       "   'title': 'First Dragon reflight',\n",
       "   'event_date_utc': '2017-06-03T21:07:00Z',\n",
       "   'event_date_unix': 1496524020,\n",
       "   'details': 'This Dragon resupply mission represented the first reflight of a commercial spacecraft to and from the International Space Station.',\n",
       "   'id': '5f6fb3cadcfdf403df379727'}],\n",
       " 'totalDocs': 15,\n",
       " 'offset': 0,\n",
       " 'limit': 10,\n",
       " 'totalPages': 2,\n",
       " 'page': 1,\n",
       " 'pagingCounter': 1,\n",
       " 'hasPrevPage': False,\n",
       " 'hasNextPage': True,\n",
       " 'prevPage': None,\n",
       " 'nextPage': 2}"
      ]
     },
     "execution_count": 34,
     "metadata": {},
     "output_type": "execute_result"
    }
   ],
   "source": [
    "response.json()"
   ]
  },
  {
   "cell_type": "markdown",
   "id": "9eb2ae5e-7c20-4a4e-9ea4-4bfb15edb26d",
   "metadata": {},
   "source": [
    "Gmail API"
   ]
  },
  {
   "cell_type": "code",
   "execution_count": 2,
   "id": "e0231158-8653-4d5b-88c2-b1032983bfcc",
   "metadata": {},
   "outputs": [
    {
     "data": {
      "text/plain": [
       "<Response [404]>"
      ]
     },
     "execution_count": 2,
     "metadata": {},
     "output_type": "execute_result"
    }
   ],
   "source": [
    "requests.get('https://gmail.googleapis.com')"
   ]
  },
  {
   "cell_type": "code",
   "execution_count": null,
   "id": "167fd1d6-2e1c-4a65-9fa1-7cd5667ddac6",
   "metadata": {},
   "outputs": [],
   "source": []
  }
 ],
 "metadata": {
  "kernelspec": {
   "display_name": "Python 3 (ipykernel)",
   "language": "python",
   "name": "python3"
  },
  "language_info": {
   "codemirror_mode": {
    "name": "ipython",
    "version": 3
   },
   "file_extension": ".py",
   "mimetype": "text/x-python",
   "name": "python",
   "nbconvert_exporter": "python",
   "pygments_lexer": "ipython3",
   "version": "3.12.2"
  }
 },
 "nbformat": 4,
 "nbformat_minor": 5
}
